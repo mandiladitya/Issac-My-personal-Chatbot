{
 "cells": [
  {
   "cell_type": "markdown",
   "metadata": {},
   "source": [
    "#   Issac My personal Chatbot "
   ]
  },
  {
   "cell_type": "markdown",
   "metadata": {},
   "source": [
    "# Required Libaries"
   ]
  },
  {
   "cell_type": "code",
   "execution_count": 1,
   "metadata": {
    "collapsed": true
   },
   "outputs": [],
   "source": [
    "import pyttsx3\n",
    "import webbrowser\n",
    "import smtplib\n",
    "import random\n",
    "import speech_recognition as sr\n",
    "import wikipedia\n",
    "import datetime\n",
    "import wolframalpha\n",
    "import os\n",
    "import sys\n",
    "import subprocess"
   ]
  },
  {
   "cell_type": "markdown",
   "metadata": {},
   "source": [
    "## Start the engine"
   ]
  },
  {
   "cell_type": "code",
   "execution_count": 2,
   "metadata": {
    "collapsed": true
   },
   "outputs": [],
   "source": [
    "engine = pyttsx3.init()\n",
    "\n",
    "client = wolframalpha.Client('AGVT22-AE67Q6APHU')\n",
    "\n",
    "voices = engine.getProperty('voices')\n",
    "engine.setProperty('voice', voices[0].id)\n",
    "rate = engine.getProperty('rate')   # getting details of current speaking rate                    #printing current voice rate\n",
    "engine.setProperty('rate',180) \n",
    "volume = engine.getProperty('volume')   #getting to know current volume level (min=0 and max=1)\n",
    "engine.setProperty('volume',1) \n"
   ]
  },
  {
   "cell_type": "markdown",
   "metadata": {},
   "source": [
    "### Speak Function"
   ]
  },
  {
   "cell_type": "code",
   "execution_count": 3,
   "metadata": {
    "collapsed": true
   },
   "outputs": [],
   "source": [
    "def speak(audio):\n",
    "    print('Issac  ' + audio)\n",
    "    engine.say(audio)\n",
    "    engine.runAndWait()"
   ]
  },
  {
   "cell_type": "markdown",
   "metadata": {},
   "source": [
    "### Greet Function"
   ]
  },
  {
   "cell_type": "code",
   "execution_count": 4,
   "metadata": {
    "collapsed": false
   },
   "outputs": [
    {
     "name": "stdout",
     "output_type": "stream",
     "text": [
      "Issac  Good Evening!\n",
      "Issac  Hello Sir !\n",
      "Issac  How may I help you?\n"
     ]
    }
   ],
   "source": [
    "def greetMe():\n",
    "    currentH = int(datetime.datetime.now().hour)\n",
    "    if currentH >= 0 and currentH < 12:\n",
    "        speak('Good Morning!')\n",
    "\n",
    "    if currentH >= 12 and currentH < 18:\n",
    "        speak('Good Afternoon!')\n",
    "\n",
    "    if currentH >= 18 and currentH !=0:\n",
    "        speak('Good Evening!')\n",
    "\n",
    "greetMe()\n",
    "\n",
    "speak('Hello Sir !')\n",
    "speak('How may I help you?')"
   ]
  },
  {
   "cell_type": "markdown",
   "metadata": {},
   "source": [
    "### Mycommand Function"
   ]
  },
  {
   "cell_type": "code",
   "execution_count": null,
   "metadata": {
    "collapsed": true
   },
   "outputs": [],
   "source": [
    "def myCommand():\n",
    "   \n",
    "    r = sr.Recognizer()                                                                                   \n",
    "    with sr.Microphone() as source:                                                                       \n",
    "        print(\"Listening...\")\n",
    "        r.pause_threshold =  1\n",
    "        audio = r.listen(source)\n",
    "    try:\n",
    "        query = r.recognize_google(audio, language='en-in')\n",
    "        print('User: ' + query + '\\n')\n",
    "        \n",
    "    except sr.UnknownValueError:\n",
    "        speak('Sorry sir! I didn\\'t get that! Try typing ')\n",
    "        query = str(input('Command: '))\n",
    "\n",
    "    return query"
   ]
  },
  {
   "cell_type": "code",
   "execution_count": null,
   "metadata": {
    "collapsed": true
   },
   "outputs": [],
   "source": [
    "if __name__ == '__main__':\n",
    "\n",
    "    while True:\n",
    "    \n",
    "        query = myCommand();\n",
    "        query = query.lower()"
   ]
  },
  {
   "cell_type": "markdown",
   "metadata": {},
   "source": [
    "### Open Youtube "
   ]
  },
  {
   "cell_type": "code",
   "execution_count": null,
   "metadata": {
    "collapsed": true
   },
   "outputs": [],
   "source": [
    "if 'open youtube' in query:\n",
    "            speak('okay')\n",
    "            webbrowser.open('www.youtube.com')"
   ]
  },
  {
   "cell_type": "markdown",
   "metadata": {},
   "source": [
    "### Open Google / Gmail "
   ]
  },
  {
   "cell_type": "code",
   "execution_count": null,
   "metadata": {
    "collapsed": true
   },
   "outputs": [],
   "source": [
    "elif 'open google' in query:\n",
    "            speak('okay')\n",
    "            webbrowser.open('www.google.co.in')\n",
    "\n",
    "        elif 'open gmail' in query:\n",
    "            speak('okay')\n",
    "            webbrowser.open('www.gmail.com')"
   ]
  },
  {
   "cell_type": "markdown",
   "metadata": {},
   "source": [
    "### Open Notepad"
   ]
  },
  {
   "cell_type": "code",
   "execution_count": null,
   "metadata": {
    "collapsed": true
   },
   "outputs": [],
   "source": [
    "elif 'open notepad' in query:\n",
    "            speak('okay')\n",
    "            subprocess.Popen(['C:/Program Files/Notepad++/notepad++.exe'])"
   ]
  },
  {
   "cell_type": "markdown",
   "metadata": {},
   "source": [
    "### Current Date /Time"
   ]
  },
  {
   "cell_type": "code",
   "execution_count": null,
   "metadata": {
    "collapsed": true
   },
   "outputs": [],
   "source": [
    "elif 'current date is' in query:\n",
    "            date_object = str(datetime.date.today())\n",
    "            speak(date_object)\n",
    "        \n",
    "        elif 'current time is' in query:\n",
    "            now = datetime.now()\n",
    "            current_time = str(now.strftime(\"%H:%M\"))\n",
    "            speak(current_time)"
   ]
  },
  {
   "cell_type": "markdown",
   "metadata": {},
   "source": [
    "### Open Wunderlist App"
   ]
  },
  {
   "cell_type": "code",
   "execution_count": null,
   "metadata": {
    "collapsed": true
   },
   "outputs": [],
   "source": [
    " elif 'open wunderlist' in query:\n",
    "            speak('okay')\n",
    "            subprocess.Popen(['C:/Users/amita/AppData/Local/Wunderlist/Wunderlist.exe'])"
   ]
  },
  {
   "cell_type": "markdown",
   "metadata": {},
   "source": [
    "### Send Email"
   ]
  },
  {
   "cell_type": "code",
   "execution_count": null,
   "metadata": {
    "collapsed": true
   },
   "outputs": [],
   "source": [
    "elif 'email' in query:\n",
    "            speak('Who is the recipient? ')\n",
    "            recipient = myCommand()\n",
    "\n",
    "            if 'me' in recipient:\n",
    "                try:\n",
    "                    speak('What should I say? ')\n",
    "                    content = myCommand()\n",
    "        \n",
    "                    server = smtplib.SMTP('smtp.gmail.com', 587)\n",
    "                    server.ehlo()\n",
    "                    server.starttls()\n",
    "                    server.login(\"Your_Username\", 'Your_Password')\n",
    "                    server.sendmail('Your_Username', \"Recipient_Username\", content)\n",
    "                    server.close()\n",
    "                    speak('Email sent!')\n",
    "\n",
    "                except:\n",
    "                    speak('Sorry Sir! I am unable to send your message at this moment!')\n"
   ]
  },
  {
   "cell_type": "markdown",
   "metadata": {},
   "source": [
    "### Exit / Abort"
   ]
  },
  {
   "cell_type": "code",
   "execution_count": null,
   "metadata": {
    "collapsed": true
   },
   "outputs": [],
   "source": [
    "elif 'nothing' in query or 'abort' in query or 'stop' in query:\n",
    "            speak('okay')\n",
    "            speak('Bye Sir, have a good day.')\n",
    "            sys.exit()"
   ]
  },
  {
   "cell_type": "markdown",
   "metadata": {},
   "source": [
    "### Use Wikipedia | Wolframalpha"
   ]
  },
  {
   "cell_type": "code",
   "execution_count": null,
   "metadata": {
    "collapsed": true
   },
   "outputs": [],
   "source": [
    "else:\n",
    "            query = query\n",
    "            speak('Searching...')\n",
    "            try:\n",
    "                try:\n",
    "                    res = client.query(query)\n",
    "                    results = next(res.results).text\n",
    "                    speak('Got it.')\n",
    "                    speak(results)\n",
    "                    \n",
    "                except:\n",
    "                    results = wikipedia.summary(query, sentences=2)\n",
    "                    speak('Got it.')\n",
    "                    speak(results)\n",
    "        \n",
    "            except:\n",
    "                webbrowser.open('www.google.com')\n",
    "        \n",
    "        speak('Anything else Aditya!')"
   ]
  }
 ],
 "metadata": {
  "anaconda-cloud": {},
  "kernelspec": {
   "display_name": "Python [default]",
   "language": "python",
   "name": "python3"
  },
  "language_info": {
   "codemirror_mode": {
    "name": "ipython",
    "version": 3
   },
   "file_extension": ".py",
   "mimetype": "text/x-python",
   "name": "python",
   "nbconvert_exporter": "python",
   "pygments_lexer": "ipython3",
   "version": "3.5.2"
  }
 },
 "nbformat": 4,
 "nbformat_minor": 1
}
